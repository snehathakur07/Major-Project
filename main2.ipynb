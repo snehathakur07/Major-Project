{
 "cells": [
  {
   "cell_type": "code",
   "execution_count": null,
   "metadata": {},
   "outputs": [
    {
     "name": "stdout",
     "output_type": "stream",
     "text": [
      "Requirement already satisfied: opencv-python-headless in c:\\users\\sneha thakur\\appdata\\roaming\\python\\python311\\site-packages (4.10.0.84)\n",
      "Requirement already satisfied: numpy>=1.21.2 in c:\\users\\sneha thakur\\appdata\\local\\programs\\python\\python311\\lib\\site-packages (from opencv-python-headless) (1.26.4)\n"
     ]
    },
    {
     "name": "stderr",
     "output_type": "stream",
     "text": [
      "\n",
      "[notice] A new release of pip is available: 24.2 -> 24.3.1\n",
      "[notice] To update, run: python.exe -m pip install --upgrade pip\n"
     ]
    },
    {
     "name": "stdout",
     "output_type": "stream",
     "text": [
      "Requirement already satisfied: albumentations in c:\\users\\sneha thakur\\appdata\\roaming\\python\\python311\\site-packages (1.4.21)\n",
      "Requirement already satisfied: numpy>=1.24.4 in c:\\users\\sneha thakur\\appdata\\local\\programs\\python\\python311\\lib\\site-packages (from albumentations) (1.26.4)\n",
      "Requirement already satisfied: scipy>=1.10.0 in c:\\users\\sneha thakur\\appdata\\local\\programs\\python\\python311\\lib\\site-packages (from albumentations) (1.14.1)\n",
      "Requirement already satisfied: PyYAML in c:\\users\\sneha thakur\\appdata\\local\\programs\\python\\python311\\lib\\site-packages (from albumentations) (6.0.2)\n",
      "Requirement already satisfied: pydantic>=2.7.0 in c:\\users\\sneha thakur\\appdata\\roaming\\python\\python311\\site-packages (from albumentations) (2.9.2)\n",
      "Requirement already satisfied: albucore==0.0.20 in c:\\users\\sneha thakur\\appdata\\roaming\\python\\python311\\site-packages (from albumentations) (0.0.20)\n",
      "Requirement already satisfied: eval-type-backport in c:\\users\\sneha thakur\\appdata\\roaming\\python\\python311\\site-packages (from albumentations) (0.2.0)\n",
      "Requirement already satisfied: opencv-python-headless>=4.9.0.80 in c:\\users\\sneha thakur\\appdata\\roaming\\python\\python311\\site-packages (from albumentations) (4.10.0.84)\n",
      "Requirement already satisfied: stringzilla>=3.10.4 in c:\\users\\sneha thakur\\appdata\\local\\programs\\python\\python311\\lib\\site-packages (from albucore==0.0.20->albumentations) (3.10.10)\n",
      "Requirement already satisfied: simsimd>=5.9.2 in c:\\users\\sneha thakur\\appdata\\local\\programs\\python\\python311\\lib\\site-packages (from albucore==0.0.20->albumentations) (6.0.5)\n",
      "Requirement already satisfied: annotated-types>=0.6.0 in c:\\users\\sneha thakur\\appdata\\roaming\\python\\python311\\site-packages (from pydantic>=2.7.0->albumentations) (0.7.0)\n",
      "Requirement already satisfied: pydantic-core==2.23.4 in c:\\users\\sneha thakur\\appdata\\local\\programs\\python\\python311\\lib\\site-packages (from pydantic>=2.7.0->albumentations) (2.23.4)\n",
      "Requirement already satisfied: typing-extensions>=4.6.1 in c:\\users\\sneha thakur\\appdata\\roaming\\python\\python311\\site-packages (from pydantic>=2.7.0->albumentations) (4.12.2)\n"
     ]
    },
    {
     "name": "stderr",
     "output_type": "stream",
     "text": [
      "\n",
      "[notice] A new release of pip is available: 24.2 -> 24.3.1\n",
      "[notice] To update, run: python.exe -m pip install --upgrade pip\n"
     ]
    }
   ],
   "source": [
    "!pip install opencv-python-headless --user\n",
    "!pip install albumentations --user"
   ]
  },
  {
   "cell_type": "code",
   "execution_count": 2,
   "metadata": {},
   "outputs": [
    {
     "name": "stdout",
     "output_type": "stream",
     "text": [
      "Name: albumentations\n",
      "Version: 1.4.21\n",
      "Summary: Fast, flexible, and advanced image augmentation library for deep learning and computer vision. Albumentations offers a wide range of transformations for images, masks, bounding boxes, and keypoints, with optimized performance and seamless integration into ML workflows.\n",
      "Home-page: https://albumentations.ai\n",
      "Author: Vladimir Iglovikov\n",
      "Author-email: \n",
      "License: MIT License\n",
      "\n",
      "Copyright (c) 2017 Vladimir Iglovikov, Alexander Buslaev, Alexander Parinov,\n",
      "\n",
      "Permission is hereby granted, free of charge, to any person obtaining a copy\n",
      "of this software and associated documentation files (the \"Software\"), to deal\n",
      "in the Software without restriction, including without limitation the rights\n",
      "to use, copy, modify, merge, publish, distribute, sublicense, and/or sell\n",
      "copies of the Software, and to permit persons to whom the Software is\n",
      "furnished to do so, subject to the following conditions:\n",
      "\n",
      "The above copyright notice and this permission notice shall be included in all\n",
      "copies or substantial portions of the Software.\n",
      "\n",
      "THE SOFTWARE IS PROVIDED \"AS IS\", WITHOUT WARRANTY OF ANY KIND, EXPRESS OR\n",
      "IMPLIED, INCLUDING BUT NOT LIMITED TO THE WARRANTIES OF MERCHANTABILITY,\n",
      "FITNESS FOR A PARTICULAR PURPOSE AND NONINFRINGEMENT. IN NO EVENT SHALL THE\n",
      "AUTHORS OR COPYRIGHT HOLDERS BE LIABLE FOR ANY CLAIM, DAMAGES OR OTHER\n",
      "LIABILITY, WHETHER IN AN ACTION OF CONTRACT, TORT OR OTHERWISE, ARISING FROM,\n",
      "OUT OF OR IN CONNECTION WITH THE SOFTWARE OR THE USE OR OTHER DEALINGS IN THE\n",
      "SOFTWARE.\n",
      "\n",
      "Location: C:\\Users\\Sneha Thakur\\AppData\\Roaming\\Python\\Python311\\site-packages\n",
      "Requires: albucore, eval-type-backport, numpy, opencv-python-headless, pydantic, PyYAML, scipy\n",
      "Required-by: \n"
     ]
    }
   ],
   "source": [
    "!pip show albumentations"
   ]
  },
  {
   "cell_type": "code",
   "execution_count": 3,
   "metadata": {},
   "outputs": [
    {
     "name": "stdout",
     "output_type": "stream",
     "text": [
      "Our dataset = \n",
      "['Grupo_0', 'Grupo_1', 'Grupo_2', 'Grupo_3', 'Grupo_4', 'Grupo_5']\n"
     ]
    }
   ],
   "source": [
    "import os\n",
    "import numpy as np\n",
    "import cv2\n",
    "import matplotlib.pyplot as plt\n",
    "from sklearn.model_selection import train_test_split\n",
    "from tensorflow.keras.utils import to_categorical\n",
    "from tensorflow.keras.layers import Dropout, Conv2D, MaxPooling2D, Flatten, Dense\n",
    "from tensorflow.keras.models import Sequential\n",
    "import albumentations as A\n",
    "\n",
    "# Define dataset path and image size\n",
    "dataset_path = \"data\"\n",
    "image_size = (64, 48)\n",
    "\n",
    "print('Our dataset = ')\n",
    "print(os.listdir(dataset_path))"
   ]
  },
  {
   "cell_type": "markdown",
   "metadata": {},
   "source": [
    "Step 1: Loading DataSet"
   ]
  },
  {
   "cell_type": "code",
   "execution_count": null,
   "metadata": {},
   "outputs": [
    {
     "name": "stdout",
     "output_type": "stream",
     "text": [
      "Following 0 files are corrupt or encountered error: \n",
      " []\n",
      "Read 25201 images from the data folder with shape (25201, 48, 64)\n"
     ]
    }
   ],
   "source": [
    "\n",
    "\n",
    "# Function to load images\n",
    "def load_images_from_folder(folder_path, max_depth=5):\n",
    "    images = []\n",
    "    labels = []\n",
    "    names = []\n",
    "    corruptedFiles = []\n",
    "    image_extensions = [\"bmp\"]\n",
    "\n",
    "    for root, dirs, files in os.walk(folder_path):\n",
    "        current_depth = root[len(folder_path):].count(os.sep)\n",
    "        if 'LG' in root:\n",
    "            current_depth -= 1\n",
    "\n",
    "        if current_depth <= max_depth:\n",
    "            for file in files:\n",
    "                if any(file.lower().endswith(ext) for ext in image_extensions):\n",
    "                    img_path = os.path.join(root, file)\n",
    "                    try:\n",
    "                        img = cv2.imread(img_path, cv2.IMREAD_GRAYSCALE)\n",
    "                        if img is not None:\n",
    "                            img = cv2.resize(img, image_size)\n",
    "                            images.append(img)\n",
    "                            labels.append(file[6] != '0')\n",
    "                            names.append(file)\n",
    "                    except:\n",
    "                        corruptedFiles.append(img_path)\n",
    "        else:\n",
    "            del dirs[:]\n",
    "\n",
    "    print(f\"Following {len(corruptedFiles)} files are corrupt or encountered error: \\n {corruptedFiles}\")\n",
    "    return np.array(images), np.array(labels), np.array(names)\n",
    "\n",
    "# Load dataset\n",
    "images, labels, names = load_images_from_folder(dataset_path)\n",
    "print(f\"Read {len(images)} images from the data folder with shape {images.shape}\")\n"
   ]
  },
  {
   "cell_type": "markdown",
   "metadata": {},
   "source": [
    "Step 2: Data Augmentation"
   ]
  },
  {
   "cell_type": "code",
   "execution_count": 9,
   "metadata": {},
   "outputs": [],
   "source": [
    "# Augmentation pipeline\n",
    "augmentation_pipeline = A.Compose([\n",
    "    A.Rotate(limit=10, p=0.5),  # Rotate by ±10 degrees\n",
    "    A.ShiftScaleRotate(shift_limit=0.2, scale_limit=0.15, rotate_limit=0, p=0.5),  # Shift by 20%, Zoom by 15%\n",
    "    A.Resize(64, 48),  # Ensure consistent size\n",
    "    A.HorizontalFlip(p=0.5),  # Optional flip for additional variety\n",
    "])\n",
    "\n",
    "def augment_image(image):\n",
    "    augmented = augmentation_pipeline(image=image)\n",
    "    return augmented['image']\n"
   ]
  },
  {
   "cell_type": "markdown",
   "metadata": {},
   "source": [
    "Step 3: Split images and labels into 80-20 random train test split and train cnn"
   ]
  },
  {
   "cell_type": "code",
   "execution_count": 13,
   "metadata": {},
   "outputs": [
    {
     "name": "stdout",
     "output_type": "stream",
     "text": [
      "Original train images shape: (20160, 48, 64, 1)\n",
      "Augmented train images shape: (20160, 48, 64, 1)\n",
      "Combined train images shape: (40320, 48, 64, 1)\n",
      "Combined labels shape: (40320, 2)\n",
      "Epoch 1/10\n"
     ]
    },
    {
     "name": "stderr",
     "output_type": "stream",
     "text": [
      "c:\\Users\\Sneha Thakur\\AppData\\Local\\Programs\\Python\\Python311\\Lib\\site-packages\\keras\\src\\layers\\convolutional\\base_conv.py:107: UserWarning: Do not pass an `input_shape`/`input_dim` argument to a layer. When using Sequential models, prefer using an `Input(shape)` object as the first layer in the model instead.\n",
      "  super().__init__(activity_regularizer=activity_regularizer, **kwargs)\n"
     ]
    },
    {
     "name": "stdout",
     "output_type": "stream",
     "text": [
      "\u001b[1m1260/1260\u001b[0m \u001b[32m━━━━━━━━━━━━━━━━━━━━\u001b[0m\u001b[37m\u001b[0m \u001b[1m40s\u001b[0m 31ms/step - accuracy: 0.7982 - loss: 1.8063 - val_accuracy: 0.9040 - val_loss: 0.2695\n",
      "Epoch 2/10\n",
      "\u001b[1m1260/1260\u001b[0m \u001b[32m━━━━━━━━━━━━━━━━━━━━\u001b[0m\u001b[37m\u001b[0m \u001b[1m39s\u001b[0m 31ms/step - accuracy: 0.8531 - loss: 0.3682 - val_accuracy: 0.9260 - val_loss: 0.1963\n",
      "Epoch 3/10\n",
      "\u001b[1m1260/1260\u001b[0m \u001b[32m━━━━━━━━━━━━━━━━━━━━\u001b[0m\u001b[37m\u001b[0m \u001b[1m40s\u001b[0m 32ms/step - accuracy: 0.8767 - loss: 0.3102 - val_accuracy: 0.9484 - val_loss: 0.1505\n",
      "Epoch 4/10\n",
      "\u001b[1m1260/1260\u001b[0m \u001b[32m━━━━━━━━━━━━━━━━━━━━\u001b[0m\u001b[37m\u001b[0m \u001b[1m40s\u001b[0m 32ms/step - accuracy: 0.8881 - loss: 0.2824 - val_accuracy: 0.9575 - val_loss: 0.1237\n",
      "Epoch 5/10\n",
      "\u001b[1m1260/1260\u001b[0m \u001b[32m━━━━━━━━━━━━━━━━━━━━\u001b[0m\u001b[37m\u001b[0m \u001b[1m41s\u001b[0m 32ms/step - accuracy: 0.8946 - loss: 0.2648 - val_accuracy: 0.9645 - val_loss: 0.1102\n",
      "Epoch 6/10\n",
      "\u001b[1m1260/1260\u001b[0m \u001b[32m━━━━━━━━━━━━━━━━━━━━\u001b[0m\u001b[37m\u001b[0m \u001b[1m40s\u001b[0m 32ms/step - accuracy: 0.9008 - loss: 0.2471 - val_accuracy: 0.9651 - val_loss: 0.1029\n",
      "Epoch 7/10\n",
      "\u001b[1m1260/1260\u001b[0m \u001b[32m━━━━━━━━━━━━━━━━━━━━\u001b[0m\u001b[37m\u001b[0m \u001b[1m40s\u001b[0m 32ms/step - accuracy: 0.9089 - loss: 0.2243 - val_accuracy: 0.9665 - val_loss: 0.0972\n",
      "Epoch 8/10\n",
      "\u001b[1m1260/1260\u001b[0m \u001b[32m━━━━━━━━━━━━━━━━━━━━\u001b[0m\u001b[37m\u001b[0m \u001b[1m41s\u001b[0m 32ms/step - accuracy: 0.9112 - loss: 0.2207 - val_accuracy: 0.9702 - val_loss: 0.0927\n",
      "Epoch 9/10\n",
      "\u001b[1m1260/1260\u001b[0m \u001b[32m━━━━━━━━━━━━━━━━━━━━\u001b[0m\u001b[37m\u001b[0m \u001b[1m40s\u001b[0m 32ms/step - accuracy: 0.9161 - loss: 0.2057 - val_accuracy: 0.9667 - val_loss: 0.0928\n",
      "Epoch 10/10\n",
      "\u001b[1m1260/1260\u001b[0m \u001b[32m━━━━━━━━━━━━━━━━━━━━\u001b[0m\u001b[37m\u001b[0m \u001b[1m40s\u001b[0m 31ms/step - accuracy: 0.9207 - loss: 0.1982 - val_accuracy: 0.9706 - val_loss: 0.0847\n"
     ]
    },
    {
     "data": {
      "text/plain": [
       "<keras.src.callbacks.history.History at 0x2d551551ad0>"
      ]
     },
     "execution_count": 13,
     "metadata": {},
     "output_type": "execute_result"
    }
   ],
   "source": [
    "# Split dataset\n",
    "images_train, images_test, labels_train, labels_test = train_test_split(images, labels, test_size=0.2, random_state=20)\n",
    "\n",
    "# Resize original training images to match the augmented images' shape (48, 64)\n",
    "images_train_resized = np.array([cv2.resize(img, (64, 48)) for img in images_train])\n",
    "\n",
    "# Augment training images\n",
    "images_train_augmented = np.array([augment_image(img) for img in images_train_resized])\n",
    "\n",
    "# Resize augmented images to (48, 64) to match the original image size\n",
    "images_train_augmented_resized = np.array([cv2.resize(img, (64, 48)) for img in images_train_augmented])\n",
    "\n",
    "# Add channel dimension for grayscale (both original and augmented images)\n",
    "images_train_resized = images_train_resized[..., np.newaxis]\n",
    "images_train_augmented_resized = images_train_augmented_resized[..., np.newaxis]\n",
    "images_test = images_test[..., np.newaxis]  # Test images also need a channel dimension\n",
    "\n",
    "# Check if the shapes match\n",
    "print(f\"Original train images shape: {images_train_resized.shape}\")\n",
    "print(f\"Augmented train images shape: {images_train_augmented_resized.shape}\")\n",
    "\n",
    "# Convert labels to one-hot encoding\n",
    "labels_train_cnn = to_categorical(labels_train, num_classes=2)\n",
    "labels_test_cnn = to_categorical(labels_test, num_classes=2)\n",
    "\n",
    "# Combine original and augmented training data\n",
    "images_train_combined = np.concatenate([images_train_resized, images_train_augmented_resized], axis=0)\n",
    "labels_train_combined = np.concatenate([labels_train_cnn, labels_train_cnn], axis=0)\n",
    "\n",
    "# Check if the combined shapes are correct\n",
    "print(f\"Combined train images shape: {images_train_combined.shape}\")\n",
    "print(f\"Combined labels shape: {labels_train_combined.shape}\")\n",
    "\n",
    "# Define CNN model\n",
    "cnn_model = Sequential([\n",
    "    Conv2D(32, (3, 3), activation='relu', input_shape=(64, 48, 1)),\n",
    "    MaxPooling2D((2, 2)),\n",
    "    Conv2D(64, (3, 3), activation='relu'),\n",
    "    MaxPooling2D((2, 2)),\n",
    "    Flatten(),\n",
    "    Dense(128, activation='relu'),\n",
    "    Dropout(0.5),\n",
    "    Dense(2, activation='softmax')\n",
    "])\n",
    "\n",
    "# Compile the model\n",
    "cnn_model.compile(optimizer='adam', loss='categorical_crossentropy', metrics=['accuracy'])\n",
    "\n",
    "# Train the model with both original and augmented images\n",
    "cnn_model.fit(images_train_combined, labels_train_combined, epochs=10, batch_size=32, validation_data=(images_test, labels_test_cnn))\n"
   ]
  },
  {
   "cell_type": "code",
   "execution_count": 14,
   "metadata": {},
   "outputs": [
    {
     "name": "stdout",
     "output_type": "stream",
     "text": [
      "\u001b[1m158/158\u001b[0m \u001b[32m━━━━━━━━━━━━━━━━━━━━\u001b[0m\u001b[37m\u001b[0m \u001b[1m1s\u001b[0m 8ms/step - accuracy: 0.9728 - loss: 0.0837\n",
      "CNN Test Accuracy: 97.06%\n"
     ]
    }
   ],
   "source": [
    "\n",
    "# Test the model\n",
    "cnn_loss, cnn_accuracy = cnn_model.evaluate(images_test, labels_test_cnn)\n",
    "print(f\"CNN Test Accuracy: {cnn_accuracy * 100:.2f}%\")\n"
   ]
  },
  {
   "cell_type": "markdown",
   "metadata": {},
   "source": [
    "Demonstration"
   ]
  },
  {
   "cell_type": "code",
   "execution_count": 25,
   "metadata": {},
   "outputs": [],
   "source": [
    "totalTest = 0\n",
    "correctTest = 0"
   ]
  },
  {
   "cell_type": "code",
   "execution_count": 45,
   "metadata": {},
   "outputs": [
    {
     "name": "stdout",
     "output_type": "stream",
     "text": [
      "\u001b[1m1/1\u001b[0m \u001b[32m━━━━━━━━━━━━━━━━━━━━\u001b[0m\u001b[37m\u001b[0m \u001b[1m0s\u001b[0m 28ms/step\n"
     ]
    },
    {
     "data": {
      "text/plain": [
       "Text(0.5, 1.0, 'Name: E_3_2_1_R_M_N_N_1986_56_2017.bmp\\n\\nPrediction: Alcoholic\\nActual: Alcoholic\\n\\nAccuracy: 0.95')"
      ]
     },
     "execution_count": 45,
     "metadata": {},
     "output_type": "execute_result"
    },
    {
     "data": {
      "image/png": "[encoded data removed]",
      "text/plain": [
       "<Figure size 640x480 with 1 Axes>"
      ]
     },
     "metadata": {},
     "output_type": "display_data"
    }
   ],
   "source": [
    "# Test with a random image\n",
    "import random\n",
    "# testImagePath = 'data/Grupo_5/E_5_7/Iritech/E_5_7_0/E_5_7_0_L_F_N_N_1994_0_2017.bmp'\n",
    "# testImg = cv2.imread(testImagePath, cv2.IMREAD_GRAYSCALE)\n",
    "\n",
    "r_in = random.randint(0, len(images) - 1)\n",
    "\n",
    "testImg = images[r_in]\n",
    "testLabel = labels[r_in]\n",
    "testImg = cv2.resize(testImg, image_size)\n",
    "\n",
    "plt.imshow(testImg, cmap='gray')\n",
    "\n",
    "testImg = np.expand_dims(testImg, axis=-1) \n",
    "testImg = np.expand_dims(testImg, axis=0)\n",
    "\n",
    "\n",
    "prediction = cnn_model.predict(testImg)\n",
    "prediction = np.argmax(prediction[0])\n",
    "\n",
    "totalTest +=1\n",
    "correctTest += prediction==testLabel\n",
    "\n",
    "prediction = 'Alcoholic' if prediction else 'Fit for duty'\n",
    "testLabel = 'Alcoholic' if testLabel else 'Fit for duty'\n",
    "plt.title(f'Name: {names[r_in]}\\n\\nPrediction: {prediction}\\nActual: {testLabel}\\n\\nAccuracy: {correctTest/totalTest}')"
   ]
  }
 ],
 "metadata": {
  "kernelspec": {
   "display_name": "Python 3",
   "language": "python",
   "name": "python3"
  },
  "language_info": {
   "codemirror_mode": {
    "name": "ipython",
    "version": 3
   },
   "file_extension": ".py",
   "mimetype": "text/x-python",
   "name": "python",
   "nbconvert_exporter": "python",
   "pygments_lexer": "ipython3",
   "version": "3.11.4"
  }
 },
 "nbformat": 4,
 "nbformat_minor": 2
}
